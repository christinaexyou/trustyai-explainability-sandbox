{
 "cells": [
  {
   "cell_type": "markdown",
   "metadata": {},
   "source": [
    "# Model Baseline Perfomances"
   ]
  },
  {
   "cell_type": "markdown",
   "metadata": {
    "id": "l4CXsuhJECJV"
   },
   "source": [
    "The goal of this notebook is to evaluate the performance of distilBERT, BERT-base-uncased, and roBERTa-base-uncased for sequence classification on test split of the IMDb movie reviews dataset. We compare the evaluation metrics and the IG for the pretrained and finetuned versions of each model. The results of this excercise will help determine the use of integrated gradients as a valid model explainability metric for LLMs. "
   ]
  },
  {
   "cell_type": "markdown",
   "metadata": {},
   "source": [
    "# Table of Contents\n",
    "1. [Setup helper functions](##setup-helper-functions)\n",
    "2. [DistilBERT](##distilBERT)\n",
    "3. [BERT-base-uncased](##BERT-base-uncased)\n",
    "4. [roBERTa](#roBERTa)"
   ]
  },
  {
   "cell_type": "code",
   "execution_count": 1,
   "metadata": {
    "colab": {
     "base_uri": "https://localhost:8080/"
    },
    "id": "AdSflS37WOL0",
    "outputId": "66f3b405-1612-439e-9e2c-8e65760c3f20"
   },
   "outputs": [],
   "source": [
    "!pip install -q transformers\n",
    "!pip install -q datasets"
   ]
  },
  {
   "cell_type": "code",
   "execution_count": 2,
   "metadata": {
    "id": "vNJt9FYGWc92"
   },
   "outputs": [],
   "source": [
    "# import required libraries\n",
    "import os\n",
    "\n",
    "import copy\n",
    "\n",
    "import pandas as pd\n",
    "import numpy as np\n",
    "\n",
    "import torch\n",
    "from torch.nn import functional as F\n",
    "\n",
    "import matplotlib.pyplot as plt\n",
    "%matplotlib inline\n",
    "\n",
    "from transformers import BertTokenizer, BertForSequenceClassification\n",
    "from transformers import AutoTokenizer, AutoModelForSequenceClassification\n",
    "from transformers import RobertaTokenizer, RobertaForSequenceClassification\n",
    "from datasets import load_dataset\n",
    "\n",
    "from sklearn.metrics import accuracy_score\n",
    "from sklearn.metrics import precision_score\n",
    "from sklearn.metrics import recall_score\n",
    "from sklearn.metrics import f1_score"
   ]
  },
  {
   "cell_type": "code",
   "execution_count": 3,
   "metadata": {},
   "outputs": [
    {
     "data": {
      "text/plain": [
       "device(type='cuda')"
      ]
     },
     "execution_count": 3,
     "metadata": {},
     "output_type": "execute_result"
    }
   ],
   "source": [
    "# check for gpu availability\n",
    "device = torch.device(\"cuda\" if torch.cuda.is_available else \"cpu\")\n",
    "device"
   ]
  },
  {
   "cell_type": "markdown",
   "metadata": {
    "id": "-xvMPJXwaCJ7"
   },
   "source": [
    "## Set up helper functions"
   ]
  },
  {
   "cell_type": "code",
   "execution_count": 4,
   "metadata": {},
   "outputs": [],
   "source": [
    "def convert_to_df(examples):\n",
    "    \"\"\"\n",
    "    Converts Dataset object to dataframe.\n",
    "    \"\"\"\n",
    "    df = pd.DataFrame(examples)\n",
    "    return df"
   ]
  },
  {
   "cell_type": "code",
   "execution_count": 5,
   "metadata": {},
   "outputs": [],
   "source": [
    "def sentiment_movie_score(movie_review, tokenizer, model):\n",
    "    \"\"\"\n",
    "    Returns model prediction of movie review sentiment\n",
    "    \"\"\"\n",
    "    inputs = tokenizer(movie_review, return_tensors = 'pt', truncation=True)\n",
    "    model.to(device)\n",
    "    result = model(inputs['input_ids'].to(device), inputs['attention_mask'].to(device))\n",
    "    return int(torch.argmax(result.logits))"
   ]
  },
  {
   "cell_type": "code",
   "execution_count": 6,
   "metadata": {},
   "outputs": [],
   "source": [
    "def eval_fn(label, pred):\n",
    "    \"\"\"\n",
    "    Generates evaluation scores for model predictions\n",
    "    \"\"\"\n",
    "    f1 = f1_score(label, pred)\n",
    "    precision = precision_score(label, pred)\n",
    "    recall = recall_score(label, pred)\n",
    "    accuracy = accuracy_score(label, pred)\n",
    "    \n",
    "    print(f'F1 score: {f1}\\nPrecison: {precision}\\nRecall: {recall}\\nAccuracy: {accuracy}')"
   ]
  },
  {
   "cell_type": "code",
   "execution_count": 7,
   "metadata": {},
   "outputs": [],
   "source": [
    "def get_sample(dataset, sample_idx):\n",
    "    \"\"\"\n",
    "    Selects a single sample from the dataset at the specified index\n",
    "    \"\"\"\n",
    "    assert max(sample_idx) <= len(dataset)\n",
    "    sample = dataset.shuffle(seed=0).select(sample_idx)\n",
    "    review = sample['text'][0]\n",
    "    label = sample['label'][0]\n",
    "    return review, label"
   ]
  },
  {
   "cell_type": "code",
   "execution_count": 8,
   "metadata": {},
   "outputs": [],
   "source": [
    "def get_input_output(sentence, model, tokenizer, labels):\n",
    "    inputs = tokenizer(sentence, return_tensors='pt').to(device)\n",
    "    model.to(device)\n",
    "    outputs = model(**inputs, labels=labels, output_attentions=True, output_hidden_states=True)\n",
    "    return inputs, outputs"
   ]
  },
  {
   "cell_type": "code",
   "execution_count": 9,
   "metadata": {},
   "outputs": [],
   "source": [
    "def calc_integrated_gradients(inputs, model, baseline, num_steps):\n",
    "  # get pretrained token embeddings\n",
    "    input_embed = model.base_model.embeddings.word_embeddings(inputs['input_ids'][0])\n",
    "\n",
    "    # input_embed = model.bert.embeddings.word_embeddings.weight\n",
    "    copy_embed = copy.deepcopy(input_embed.data)\n",
    "\n",
    "    if baseline is None:\n",
    "        # create baseline\n",
    "        baseline = torch.zeros_like(copy_embed)\n",
    "\n",
    "    grads = []\n",
    "\n",
    "    for step in range(num_steps + 1):\n",
    "        input_embed.data =  baseline + step/num_steps * (copy_embed - baseline)\n",
    "        outputs = model(**inputs, output_hidden_states=True, output_attentions=True)\n",
    "        logits, hidden_states = outputs.logits, outputs.hidden_states\n",
    "        logits = logits[0]\n",
    "\n",
    "        # calculate the derivates of the output of BertEmbedding\n",
    "        out_embed = hidden_states[0]\n",
    "        g = torch.autograd.grad(logits, out_embed, grad_outputs=torch.ones_like(logits))[0]\n",
    "        grads.append(g)\n",
    "\n",
    "  # stack grads along first dimension to create a new tensor\n",
    "    grads = torch.stack(grads)\n",
    "\n",
    "  # approx integral\n",
    "    grads = (grads[:-1] + grads[1:]) / 2\n",
    "    avg_grad = grads.mean(0)\n",
    "\n",
    "    integrated_grads = out_embed * avg_grad\n",
    "\n",
    "    return integrated_grads"
   ]
  },
  {
   "cell_type": "code",
   "execution_count": 10,
   "metadata": {},
   "outputs": [],
   "source": [
    "def calc_scores(integrated_grads):\n",
    "    scores = torch.sqrt((integrated_grads ** 2).sum(-1))\n",
    "    # normalize scores\n",
    "    max_s, min_s = scores.max(1, True).values, scores.min(1, True).values\n",
    "    normalized_scores = (scores - min_s) / (max_s - min_s)\n",
    "    return normalized_scores[0].tolist()"
   ]
  },
  {
   "cell_type": "code",
   "execution_count": 11,
   "metadata": {},
   "outputs": [],
   "source": [
    "def plot_gradients(tokens, gradients, title):\n",
    "    plt.figure(figsize=(21,3))\n",
    "    xvals = [ x + str(i) for i,x in enumerate(tokens)]\n",
    "    colors =  [ (0,0,1, c) for c in (gradients) ]\n",
    "\n",
    "    plt.tick_params(axis='both', which='minor', labelsize=29)\n",
    "    p = plt.bar(xvals, gradients, color=colors, linewidth=1 )\n",
    "    plt.title(title)\n",
    "    p=plt.xticks(ticks=[i for i in range(len(tokens))], labels=tokens, fontsize=12,rotation=90)"
   ]
  },
  {
   "cell_type": "code",
   "execution_count": 12,
   "metadata": {},
   "outputs": [],
   "source": [
    "def topk_tokens(tokens, gradients, k):\n",
    "    # sort list of tokens and gradients \n",
    "    res = sorted(list(zip(tokens, gradients)), key = lambda x: x[1], reverse=True)\n",
    "    topk_tokens, topk_grads = [], []\n",
    "    for i in range(k):\n",
    "        topk_tokens.append(res[i][0])\n",
    "        topk_grads.append(res[i][1])\n",
    "        print(res[i][0], f'Score: {res[i][1]}')\n",
    "    return topk_tokens, topk_grads"
   ]
  },
  {
   "cell_type": "markdown",
   "metadata": {},
   "source": [
    "## Load data "
   ]
  },
  {
   "cell_type": "code",
   "execution_count": 13,
   "metadata": {},
   "outputs": [
    {
     "name": "stdout",
     "output_type": "stream",
     "text": [
      "Dataset({\n",
      "    features: ['text', 'label'],\n",
      "    num_rows: 25000\n",
      "})\n"
     ]
    }
   ],
   "source": [
    "# load dataset \n",
    "imdb_test = load_dataset(\"imdb\", split='test')\n",
    "\n",
    "print(imdb_test)"
   ]
  },
  {
   "cell_type": "code",
   "execution_count": 14,
   "metadata": {},
   "outputs": [
    {
     "data": {
      "text/html": [
       "<div>\n",
       "<style scoped>\n",
       "    .dataframe tbody tr th:only-of-type {\n",
       "        vertical-align: middle;\n",
       "    }\n",
       "\n",
       "    .dataframe tbody tr th {\n",
       "        vertical-align: top;\n",
       "    }\n",
       "\n",
       "    .dataframe thead th {\n",
       "        text-align: right;\n",
       "    }\n",
       "</style>\n",
       "<table border=\"1\" class=\"dataframe\">\n",
       "  <thead>\n",
       "    <tr style=\"text-align: right;\">\n",
       "      <th></th>\n",
       "      <th>text</th>\n",
       "      <th>label</th>\n",
       "    </tr>\n",
       "  </thead>\n",
       "  <tbody>\n",
       "    <tr>\n",
       "      <th>0</th>\n",
       "      <td>I love sci-fi and am willing to put up with a ...</td>\n",
       "      <td>0</td>\n",
       "    </tr>\n",
       "    <tr>\n",
       "      <th>1</th>\n",
       "      <td>Worth the entertainment value of a rental, esp...</td>\n",
       "      <td>0</td>\n",
       "    </tr>\n",
       "    <tr>\n",
       "      <th>2</th>\n",
       "      <td>its a totally average film with a few semi-alr...</td>\n",
       "      <td>0</td>\n",
       "    </tr>\n",
       "    <tr>\n",
       "      <th>3</th>\n",
       "      <td>STAR RATING: ***** Saturday Night **** Friday ...</td>\n",
       "      <td>0</td>\n",
       "    </tr>\n",
       "    <tr>\n",
       "      <th>4</th>\n",
       "      <td>First off let me say, If you haven't enjoyed a...</td>\n",
       "      <td>0</td>\n",
       "    </tr>\n",
       "  </tbody>\n",
       "</table>\n",
       "</div>"
      ],
      "text/plain": [
       "                                                text  label\n",
       "0  I love sci-fi and am willing to put up with a ...      0\n",
       "1  Worth the entertainment value of a rental, esp...      0\n",
       "2  its a totally average film with a few semi-alr...      0\n",
       "3  STAR RATING: ***** Saturday Night **** Friday ...      0\n",
       "4  First off let me say, If you haven't enjoyed a...      0"
      ]
     },
     "metadata": {},
     "output_type": "display_data"
    }
   ],
   "source": [
    "# convert Dataset object to DataFrame\n",
    "test_df = convert_to_df(imdb_test)\n",
    "# make a copy of test_df\n",
    "result_df = test_df.copy()\n",
    "display(test_df.head())"
   ]
  },
  {
   "cell_type": "markdown",
   "metadata": {},
   "source": [
    "## Define IG parameters"
   ]
  },
  {
   "cell_type": "code",
   "execution_count": 15,
   "metadata": {},
   "outputs": [
    {
     "name": "stdout",
     "output_type": "stream",
     "text": [
      "Review: When the Italians and Miles O'keeffe work together nothing can go wrong! As ever, Miles is great as the almost as great Ator; the most lovable barbarian of all times. Totally lives up to the first movie.\n",
      "Label: 1\n"
     ]
    }
   ],
   "source": [
    "review, label = get_sample(imdb_test, sample_idx=[1])\n",
    "print(f'Review: {review}\\nLabel: {label}')\n",
    "baseline = None\n",
    "num_steps = 20 # range between 20 - , depending on the complexity of the model"
   ]
  },
  {
   "cell_type": "markdown",
   "metadata": {},
   "source": [
    "## DistilBert"
   ]
  },
  {
   "cell_type": "code",
   "execution_count": 16,
   "metadata": {},
   "outputs": [
    {
     "name": "stderr",
     "output_type": "stream",
     "text": [
      "Some weights of DistilBertForSequenceClassification were not initialized from the model checkpoint at distilbert-base-uncased and are newly initialized: ['classifier.bias', 'pre_classifier.bias', 'pre_classifier.weight', 'classifier.weight']\n",
      "You should probably TRAIN this model on a down-stream task to be able to use it for predictions and inference.\n"
     ]
    }
   ],
   "source": [
    "distilbert = \"distilbert-base-uncased\"\n",
    "imdb_distilbert = 'lvwerra/distilbert-imdb'\n",
    "\n",
    "distil_tokenizer = AutoTokenizer.from_pretrained(distilbert)\n",
    "\n",
    "distil_model = AutoModelForSequenceClassification.from_pretrained(distilbert, num_labels=2, return_dict=True)\n",
    "imdb_distil_model = AutoModelForSequenceClassification.from_pretrained(imdb_distilbert, num_labels=2, return_dict=True)"
   ]
  },
  {
   "cell_type": "code",
   "execution_count": null,
   "metadata": {},
   "outputs": [],
   "source": [
    "result_df['distil_sentiment'] = test_df['text'].apply(lambda x: sentiment_movie_score(x, distil_tokenizer, distil_model))\n",
    "eval_fn(np.array(result_df['label']), np.array(result_df['distil_sentiment']))"
   ]
  },
  {
   "cell_type": "code",
   "execution_count": 18,
   "metadata": {
    "id": "UQfYpjNpH096"
   },
   "outputs": [
    {
     "name": "stdout",
     "output_type": "stream",
     "text": [
      "F1 score: 0.6663820932155912\n",
      "Precison: 0.49989993195372856\n",
      "Recall: 0.99912\n",
      "Accuracy: 0.4998\n"
     ]
    }
   ],
   "source": [
    "result_df['finetuned_distil_sentiment'] = test_df['text'].apply(lambda x: sentiment_movie_score(x, distil_tokenizer, distil_model))\n",
    "eval_fn(np.array(result_df['label']), np.array(result_df['finetuned_distil_sentiment']))"
   ]
  },
  {
   "cell_type": "code",
   "execution_count": 19,
   "metadata": {},
   "outputs": [],
   "source": [
    "distil_inputs, distil_ouputs = get_input_output(review, distil_model, distil_tokenizer, None)\n",
    "ig_distil = calc_integrated_gradients(distil_inputs, distil_model, baseline, num_steps)\n",
    "scores_distil = calc_scores(ig_distil)\n",
    "tokens_distil= distil_tokenizer.convert_ids_to_tokens(distil_inputs['input_ids'][0])"
   ]
  },
  {
   "cell_type": "code",
   "execution_count": 20,
   "metadata": {},
   "outputs": [
    {
     "name": "stdout",
     "output_type": "stream",
     "text": [
      "totally Score: 1.0\n",
      "barbarian Score: 0.9573367238044739\n",
      "lives Score: 0.6258236169815063\n",
      "italians Score: 0.6208071708679199\n",
      "movie Score: 0.6054354906082153\n",
      "[CLS] Score: 0.5703091621398926\n",
      ". Score: 0.4277893602848053\n",
      "##or Score: 0.354387491941452\n",
      "first Score: 0.34626898169517517\n",
      "##vable Score: 0.32594165205955505\n"
     ]
    }
   ],
   "source": [
    "topk_tokens_distil, topk_grads_distil = topk_tokens(tokens_distil, scores_distil, 10)"
   ]
  },
  {
   "cell_type": "code",
   "execution_count": 21,
   "metadata": {},
   "outputs": [
    {
     "data": {
      "image/png": "[encoded data removed]",
      "text/plain": [
       "<Figure size 1512x216 with 1 Axes>"
      ]
     },
     "metadata": {
      "needs_background": "light"
     },
     "output_type": "display_data"
    }
   ],
   "source": [
    "plot_gradients(tokens_distil, scores_distil, f\"IG for {distilbert}\")"
   ]
  },
  {
   "cell_type": "code",
   "execution_count": 22,
   "metadata": {},
   "outputs": [],
   "source": [
    "imdb_distil_inputs, imdb_distil_ouputs = get_input_output(review, imdb_distil_model, distil_tokenizer, None)\n",
    "imdb_ig_distil = calc_integrated_gradients(imdb_distil_inputs, imdb_distil_model, baseline, num_steps)\n",
    "imdb_scores_distil = calc_scores(imdb_ig_distil)\n",
    "imdb_tokens_distil= distil_tokenizer.convert_ids_to_tokens(imdb_distil_inputs['input_ids'][0])"
   ]
  },
  {
   "cell_type": "code",
   "execution_count": 23,
   "metadata": {},
   "outputs": [
    {
     "name": "stdout",
     "output_type": "stream",
     "text": [
      "barbarian Score: 1.0\n",
      "##vable Score: 0.4731347858905792\n",
      "totally Score: 0.40080147981643677\n",
      "italians Score: 0.3923628330230713\n",
      "lives Score: 0.3577708899974823\n",
      "great Score: 0.31522154808044434\n",
      "[CLS] Score: 0.2508437931537628\n",
      "movie Score: 0.24243929982185364\n",
      "first Score: 0.17467918992042542\n",
      "times Score: 0.16895554959774017\n"
     ]
    }
   ],
   "source": [
    "topk_tokens_imdb_distil, topk_grads_imdb_distil = topk_tokens(imdb_tokens_distil, imdb_scores_distil, 10)"
   ]
  },
  {
   "cell_type": "code",
   "execution_count": 24,
   "metadata": {},
   "outputs": [
    {
     "data": {
      "image/png": "[encoded data removed]",
      "text/plain": [
       "<Figure size 1512x216 with 1 Axes>"
      ]
     },
     "metadata": {
      "needs_background": "light"
     },
     "output_type": "display_data"
    }
   ],
   "source": [
    "plot_gradients(imdb_tokens_distil, imdb_scores_distil, f\"IG for {imdb_distilbert}\")"
   ]
  },
  {
   "cell_type": "markdown",
   "metadata": {
    "id": "piLvS3nBFqaI"
   },
   "source": [
    "## BERT-base-uncased"
   ]
  },
  {
   "cell_type": "code",
   "execution_count": 25,
   "metadata": {},
   "outputs": [
    {
     "name": "stderr",
     "output_type": "stream",
     "text": [
      "Some weights of BertForSequenceClassification were not initialized from the model checkpoint at bert-base-uncased and are newly initialized: ['classifier.bias', 'classifier.weight']\n",
      "You should probably TRAIN this model on a down-stream task to be able to use it for predictions and inference.\n"
     ]
    }
   ],
   "source": [
    "bert_base = 'bert-base-uncased'\n",
    "imdb_bert_base = 'fabriceyhc/bert-base-uncased-imdb'\n",
    "\n",
    "base_tokenizer = BertTokenizer.from_pretrained(bert_base)\n",
    "\n",
    "base_model = BertForSequenceClassification.from_pretrained(bert_base, num_labels=2, return_dict=True)\n",
    "imbd_base_model = BertForSequenceClassification.from_pretrained(imdb_bert_base, num_labels=2, return_dict=True)"
   ]
  },
  {
   "cell_type": "code",
   "execution_count": 26,
   "metadata": {},
   "outputs": [
    {
     "name": "stdout",
     "output_type": "stream",
     "text": [
      "F1 score: 0.008572789331639944\n",
      "Precison: 0.5510204081632653\n",
      "Recall: 0.00432\n",
      "Accuracy: 0.5004\n"
     ]
    }
   ],
   "source": [
    "result_df['base_sentiment'] = test_df['text'].apply(lambda x: sentiment_movie_score(x, base_tokenizer, base_model))\n",
    "eval_fn(np.array(result_df['label']), np.array(result_df['base_sentiment']))"
   ]
  },
  {
   "cell_type": "code",
   "execution_count": 27,
   "metadata": {},
   "outputs": [
    {
     "name": "stdout",
     "output_type": "stream",
     "text": [
      "F1 score: 0.9307631160572336\n",
      "Precison: 0.9248815165876777\n",
      "Recall: 0.93672\n",
      "Accuracy: 0.93032\n"
     ]
    }
   ],
   "source": [
    "result_df['imdb_base_sentiment'] = test_df['text'].apply(lambda x: sentiment_movie_score(x, base_tokenizer, imbd_base_model))\n",
    "eval_fn(np.array(result_df['label']), np.array(result_df['imdb_base_sentiment']))"
   ]
  },
  {
   "cell_type": "code",
   "execution_count": 28,
   "metadata": {},
   "outputs": [],
   "source": [
    "base_inputs, base_outputs = get_input_output(review, base_model, base_tokenizer, None)\n",
    "ig_base = calc_integrated_gradients(base_inputs, base_model, baseline, num_steps)\n",
    "scores_base = calc_scores(ig_base)\n",
    "tokens_base = base_tokenizer.convert_ids_to_tokens(base_inputs['input_ids'][0])"
   ]
  },
  {
   "cell_type": "code",
   "execution_count": 29,
   "metadata": {},
   "outputs": [
    {
     "name": "stdout",
     "output_type": "stream",
     "text": [
      "[CLS] Score: 1.0\n",
      "barbarian Score: 0.6340150833129883\n",
      "totally Score: 0.6056150197982788\n",
      "lives Score: 0.435956209897995\n",
      "italians Score: 0.4343216121196747\n",
      "##vable Score: 0.385654091835022\n",
      "great Score: 0.37572988867759705\n",
      "movie Score: 0.3519125282764435\n",
      "##ef Score: 0.2480069100856781\n",
      "ever Score: 0.2186013013124466\n"
     ]
    }
   ],
   "source": [
    "topk_tokens_base, topk_grads_base = topk_tokens(tokens_base, scores_base, 10)"
   ]
  },
  {
   "cell_type": "code",
   "execution_count": 30,
   "metadata": {},
   "outputs": [
    {
     "data": {
      "image/png": "[encoded data removed]",
      "text/plain": [
       "<Figure size 1512x216 with 1 Axes>"
      ]
     },
     "metadata": {
      "needs_background": "light"
     },
     "output_type": "display_data"
    }
   ],
   "source": [
    "plot_gradients(tokens_base, scores_base, f'IG for {bert_base} model' )"
   ]
  },
  {
   "cell_type": "code",
   "execution_count": 31,
   "metadata": {},
   "outputs": [],
   "source": [
    "imdb_base_inputs, imdb_base_outputs = get_input_output(review, imbd_base_model, base_tokenizer, None)\n",
    "imdb_ig_base = calc_integrated_gradients(imdb_base_inputs, imbd_base_model, baseline, num_steps)\n",
    "imdb_scores_base = calc_scores(imdb_ig_base)\n",
    "imdb_tokens_base = base_tokenizer.convert_ids_to_tokens(imdb_base_inputs['input_ids'][0])"
   ]
  },
  {
   "cell_type": "code",
   "execution_count": 32,
   "metadata": {},
   "outputs": [
    {
     "name": "stdout",
     "output_type": "stream",
     "text": [
      "barbarian Score: 1.0\n",
      "##vable Score: 0.8384172320365906\n",
      "first Score: 0.6130409836769104\n",
      "lives Score: 0.60838383436203\n",
      "##or Score: 0.5875440239906311\n",
      "movie Score: 0.5108721852302551\n",
      "at Score: 0.4932708442211151\n",
      "totally Score: 0.48479634523391724\n",
      "italians Score: 0.38500872254371643\n",
      "great Score: 0.3837522268295288\n"
     ]
    }
   ],
   "source": [
    "imdb_topk_tokens_base, imdb_topk_grads_base = topk_tokens(imdb_tokens_base, imdb_scores_base, 10)"
   ]
  },
  {
   "cell_type": "code",
   "execution_count": 33,
   "metadata": {},
   "outputs": [
    {
     "data": {
      "image/png": "[encoded data removed]",
      "text/plain": [
       "<Figure size 1512x216 with 1 Axes>"
      ]
     },
     "metadata": {
      "needs_background": "light"
     },
     "output_type": "display_data"
    }
   ],
   "source": [
    "plot_gradients(imdb_tokens_base, imdb_scores_base, f'IG for {imdb_bert_base} model' )"
   ]
  },
  {
   "cell_type": "markdown",
   "metadata": {},
   "source": [
    "## roBERTa"
   ]
  },
  {
   "cell_type": "code",
   "execution_count": 34,
   "metadata": {},
   "outputs": [
    {
     "name": "stderr",
     "output_type": "stream",
     "text": [
      "Some weights of RobertaForSequenceClassification were not initialized from the model checkpoint at roberta-base and are newly initialized: ['classifier.dense.bias', 'classifier.out_proj.bias', 'classifier.out_proj.weight', 'classifier.dense.weight']\n",
      "You should probably TRAIN this model on a down-stream task to be able to use it for predictions and inference.\n"
     ]
    }
   ],
   "source": [
    "roberta = 'roberta-base'\n",
    "imdb_roberta = 'aychang/roberta-base-imdb'\n",
    "\n",
    "roberta_tokenizer = RobertaTokenizer.from_pretrained(roberta)\n",
    "\n",
    "roberta_model = RobertaForSequenceClassification.from_pretrained(roberta)\n",
    "imdb_roberta_model = RobertaForSequenceClassification.from_pretrained(imdb_roberta)"
   ]
  },
  {
   "cell_type": "code",
   "execution_count": 35,
   "metadata": {},
   "outputs": [
    {
     "name": "stdout",
     "output_type": "stream",
     "text": [
      "F1 score: 0.0\n",
      "Precison: 0.0\n",
      "Recall: 0.0\n",
      "Accuracy: 0.5\n"
     ]
    },
    {
     "name": "stderr",
     "output_type": "stream",
     "text": [
      "/share/pkg.7/python3/3.10.5/install/lib/python3.10/site-packages/sklearn/metrics/_classification.py:1327: UndefinedMetricWarning: Precision is ill-defined and being set to 0.0 due to no predicted samples. Use `zero_division` parameter to control this behavior.\n",
      "  _warn_prf(average, modifier, msg_start, len(result))\n"
     ]
    }
   ],
   "source": [
    "result_df['roberta_sentiment'] = test_df['text'].apply(lambda x: sentiment_movie_score(x, roberta_tokenizer, roberta_model))\n",
    "eval_fn(np.array(result_df['label']), np.array(result_df['roberta_sentiment']))"
   ]
  },
  {
   "cell_type": "code",
   "execution_count": 36,
   "metadata": {},
   "outputs": [],
   "source": [
    "roberta_inputs, roberta_ouputs = get_input_output(review, roberta_model, roberta_tokenizer, None)\n",
    "ig_roberta = calc_integrated_gradients(roberta_inputs, roberta_model, baseline, num_steps)\n",
    "scores_roberta = calc_scores(ig_roberta)\n",
    "tokens_roberta = roberta_tokenizer.convert_ids_to_tokens(roberta_inputs['input_ids'][0])"
   ]
  },
  {
   "cell_type": "code",
   "execution_count": 37,
   "metadata": {},
   "outputs": [
    {
     "name": "stdout",
     "output_type": "stream",
     "text": [
      "Ġbarb Score: 1.0\n",
      "ĠItalians Score: 0.8410228490829468\n",
      "arian Score: 0.3625156581401825\n",
      "ffe Score: 0.35991954803466797\n",
      "ĠTotally Score: 0.3500981032848358\n",
      "Ġmovie Score: 0.3081413805484772\n",
      "ĠMiles Score: 0.2881219983100891\n",
      "ovable Score: 0.28459832072257996\n",
      "ĠMiles Score: 0.2814558446407318\n",
      "! Score: 0.2607932984828949\n"
     ]
    }
   ],
   "source": [
    "topk_tokens_roberta, topk_grads_roberta = topk_tokens(tokens_roberta, scores_roberta, 10)"
   ]
  },
  {
   "cell_type": "code",
   "execution_count": 38,
   "metadata": {},
   "outputs": [
    {
     "data": {
      "image/png": "[encoded data removed]",
      "text/plain": [
       "<Figure size 1512x216 with 1 Axes>"
      ]
     },
     "metadata": {
      "needs_background": "light"
     },
     "output_type": "display_data"
    }
   ],
   "source": [
    "plot_gradients(tokens_roberta, scores_roberta, f'IG for {roberta} model')"
   ]
  },
  {
   "cell_type": "code",
   "execution_count": 39,
   "metadata": {},
   "outputs": [
    {
     "name": "stdout",
     "output_type": "stream",
     "text": [
      "F1 score: 0.9473101703624649\n",
      "Precison: 0.9362450191421204\n",
      "Recall: 0.95864\n",
      "Accuracy: 0.94668\n"
     ]
    }
   ],
   "source": [
    "result_df['imdb_roberta_sentiment'] = test_df['text'].apply(lambda x: sentiment_movie_score(x, roberta_tokenizer, imdb_roberta_model))\n",
    "eval_fn(np.array(result_df['label']), np.array(result_df['imdb_roberta_sentiment']))"
   ]
  },
  {
   "cell_type": "code",
   "execution_count": 40,
   "metadata": {},
   "outputs": [],
   "source": [
    "imdb_roberta_inputs, imdb_roberta_ouputs = get_input_output(review, imdb_roberta_model, roberta_tokenizer, None)\n",
    "imdb_ig_roberta = calc_integrated_gradients(imdb_roberta_inputs, imdb_roberta_model, baseline, num_steps)\n",
    "imdb_scores_roberta = calc_scores(imdb_ig_roberta)\n",
    "imdb_tokens_roberta = roberta_tokenizer.convert_ids_to_tokens(imdb_roberta_inputs['input_ids'][0])"
   ]
  },
  {
   "cell_type": "code",
   "execution_count": 41,
   "metadata": {},
   "outputs": [
    {
     "name": "stdout",
     "output_type": "stream",
     "text": [
      "ĠTotally Score: 1.0\n",
      "Ġgreat Score: 0.8312911987304688\n",
      "Ġlives Score: 0.7278521656990051\n",
      "Ġbarb Score: 0.5316978096961975\n",
      "Ġfirst Score: 0.509239673614502\n",
      "ĠMiles Score: 0.47796788811683655\n",
      "Ġmovie Score: 0.43243804574012756\n",
      "ĠItalians Score: 0.33490681648254395\n",
      "ffe Score: 0.3141946792602539\n",
      "ĠMiles Score: 0.3088281452655792\n"
     ]
    }
   ],
   "source": [
    "imdb_topk_tokens_roberta, imbd_topk_grads_roberta = topk_tokens(imdb_tokens_roberta, imdb_scores_roberta, 10)"
   ]
  },
  {
   "cell_type": "code",
   "execution_count": 42,
   "metadata": {},
   "outputs": [
    {
     "data": {
      "image/png": "[encoded data removed]",
      "text/plain": [
       "<Figure size 1512x216 with 1 Axes>"
      ]
     },
     "metadata": {
      "needs_background": "light"
     },
     "output_type": "display_data"
    }
   ],
   "source": [
    "plot_gradients(imdb_tokens_roberta, imdb_scores_roberta, f'IG for {imdb_roberta} model' )"
   ]
  },
  {
   "cell_type": "code",
   "execution_count": 43,
   "metadata": {},
   "outputs": [],
   "source": [
    "# save results to csv file\n",
    "\n",
    "result_df.to_csv('result.csv')"
   ]
  }
 ],
 "metadata": {
  "colab": {
   "provenance": []
  },
  "kernelspec": {
   "display_name": "Python 3",
   "language": "python",
   "name": "python3"
  },
  "language_info": {
   "codemirror_mode": {
    "name": "ipython",
    "version": 3
   },
   "file_extension": ".py",
   "mimetype": "text/x-python",
   "name": "python",
   "nbconvert_exporter": "python",
   "pygments_lexer": "ipython3",
   "version": "3.10.5"
  }
 },
 "nbformat": 4,
 "nbformat_minor": 1
}
