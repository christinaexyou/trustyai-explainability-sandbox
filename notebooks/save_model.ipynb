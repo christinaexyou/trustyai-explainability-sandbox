{
 "cells": [
  {
   "cell_type": "code",
   "execution_count": 1,
   "id": "efdf9c5b-db65-4477-9c37-754be71cefe0",
   "metadata": {
    "tags": []
   },
   "outputs": [
    {
     "name": "stdout",
     "output_type": "stream",
     "text": [
      "\n",
      "\u001b[1m[\u001b[0m\u001b[34;49mnotice\u001b[0m\u001b[1;39;49m]\u001b[0m\u001b[39;49m A new release of pip available: \u001b[0m\u001b[31;49m22.2.2\u001b[0m\u001b[39;49m -> \u001b[0m\u001b[32;49m23.3.2\u001b[0m\n",
      "\u001b[1m[\u001b[0m\u001b[34;49mnotice\u001b[0m\u001b[1;39;49m]\u001b[0m\u001b[39;49m To update, run: \u001b[0m\u001b[32;49mpip install --upgrade pip\u001b[0m\n"
     ]
    }
   ],
   "source": [
    "!pip install -qr requirements.txt"
   ]
  },
  {
   "cell_type": "code",
   "execution_count": 1,
   "id": "d41600ce-9dcb-4c9c-adf6-aa6bc8035877",
   "metadata": {
    "tags": []
   },
   "outputs": [],
   "source": [
    "# common\n",
    "import os\n",
    "import boto3\n",
    "import botocore\n",
    "\n",
    "# local\n",
    "from integrated_gradients import *\n",
    "from visualization import *\n",
    "\n",
    "# third party \n",
    "from transformers import (\n",
    "    AutoModelForSequenceClassification, \n",
    "    AutoTokenizer\n",
    ")"
   ]
  },
  {
   "cell_type": "code",
   "execution_count": 10,
   "id": "a8eb991a-0c4c-4ee5-8bef-e25769d5d1c4",
   "metadata": {
    "tags": []
   },
   "outputs": [
    {
     "data": {
      "text/plain": [
       "'2.0.1+cu118'"
      ]
     },
     "execution_count": 10,
     "metadata": {},
     "output_type": "execute_result"
    }
   ],
   "source": [
    "torch.__version__"
   ]
  },
  {
   "cell_type": "code",
   "execution_count": 2,
   "id": "7f0a123b-933e-4d3f-89c9-8b797133925d",
   "metadata": {
    "tags": []
   },
   "outputs": [],
   "source": [
    "tokenizer = AutoTokenizer.from_pretrained(\"lvwerra/distilbert-imdb\")\n",
    "model = AutoModelForSequenceClassification.from_pretrained(\"lvwerra/distilbert-imdb\")"
   ]
  },
  {
   "cell_type": "code",
   "execution_count": 3,
   "id": "3274e21f-4ebb-4c4a-9ade-173b1e39f007",
   "metadata": {
    "tags": []
   },
   "outputs": [],
   "source": [
    "model_inputs = tokenizer(text = \"\"\"\n",
    "                i went to see this movie with a bunch of friends one night.\n",
    "                I didn't really hear much about it. So I wasn't expecting anything.\n",
    "                But after I saw it, I really liked it. Nicolas Cage and the rest of\n",
    "                the cast were very good. But I do have to say Giovanni Ribisi's acting\n",
    "                performace did need a little perking up. But such a small flaw, it\n",
    "                could be overrided. <br /><br />Gone In 60 Seconds is about a retired\n",
    "                car thief who must boost 60 rare and exotic cars in one night to save\n",
    "                his brother's life. The movie is in no way predictable. So the ending\n",
    "                should be a suprise. Think it's just another, fast car driving movie?\n",
    "                Well you are partially right. There is much more to it. Everyone should\n",
    "                take a look at this movie.\n",
    "               \"\"\", \n",
    "                return_tensors=\"pt\")"
   ]
  },
  {
   "cell_type": "code",
   "execution_count": 13,
   "id": "fba6f7d7-d0d0-404f-8a26-2166b264f6d4",
   "metadata": {
    "tags": []
   },
   "outputs": [],
   "source": [
    "ig_enabled_model = IGWrapper(model).eval()\n",
    "\n",
    "scores = ig_enabled_model(model_inputs['input_ids'],\n",
    "                          model_inputs['attention_mask'],\n",
    "                          baseline=torch.zeros([1, 181, 768]),\n",
    "                          )"
   ]
  },
  {
   "cell_type": "code",
   "execution_count": 5,
   "id": "03b5e582-9126-474c-b0d9-f4e52bf4c694",
   "metadata": {
    "tags": []
   },
   "outputs": [],
   "source": [
    "def get_dummy_baseline(model, input_ids):\n",
    "    return torch.zeros_like(model.base_model.embeddings.word_embeddings(model_inputs['input_ids']))"
   ]
  },
  {
   "cell_type": "code",
   "execution_count": 6,
   "id": "82affe7b-31af-4a86-80ce-6937a7e34fdf",
   "metadata": {
    "tags": []
   },
   "outputs": [],
   "source": [
    "dummy_baseline = get_dummy_baseline(model, model_inputs['input_ids'])"
   ]
  },
  {
   "cell_type": "code",
   "execution_count": 14,
   "id": "5c570693-1030-4240-94de-f04ef3781bf4",
   "metadata": {
    "tags": []
   },
   "outputs": [
    {
     "name": "stdout",
     "output_type": "stream",
     "text": [
      "step: 0/5\n",
      "step: 1/5\n",
      "step: 2/5\n",
      "step: 3/5\n",
      "step: 4/5\n",
      "step: 5/5\n",
      "step: 0/5\n",
      "step: 1/5\n",
      "step: 2/5\n",
      "step: 3/5\n",
      "step: 4/5\n",
      "step: 5/5\n",
      "step: 0/5\n",
      "step: 1/5\n",
      "step: 2/5\n",
      "step: 3/5\n",
      "step: 4/5\n",
      "step: 5/5\n"
     ]
    }
   ],
   "source": [
    "traced_ig_enabled_model = torch.jit.trace(\n",
    "        ig_enabled_model,\n",
    "        (model_inputs['input_ids'],\n",
    "        model_inputs['attention_mask'],\n",
    "        dummy_baseline)\n",
    "    )\n",
    "traced_ig_enabled_model.save('models/model/1/model.pt')"
   ]
  },
  {
   "cell_type": "code",
   "execution_count": 9,
   "id": "516e62f3-748a-4fb7-9b7b-20e9999af773",
   "metadata": {
    "tags": []
   },
   "outputs": [],
   "source": [
    "traced_ig_enabled_model = torch.jit.load('models/model/1/model.pt')\n",
    "\n",
    "scores = traced_ig_enabled_model(\n",
    "    model_inputs['input_ids'],\n",
    "    model_inputs['attention_mask'],\n",
    "    baseline=torch.zeros([1, 181, 768])   \n",
    ")"
   ]
  },
  {
   "cell_type": "markdown",
   "id": "0644eca1-afe0-49d7-ad89-c78a65c472ca",
   "metadata": {
    "tags": []
   },
   "source": [
    "## Save model to MinIO bucket"
   ]
  },
  {
   "cell_type": "code",
   "execution_count": 16,
   "id": "a32cfbc8-cd3b-48a7-ad17-b8a6eea90cef",
   "metadata": {
    "tags": []
   },
   "outputs": [],
   "source": [
    "aws_access_key_id = os.environ.get('AWS_ACCESS_KEY_ID')\n",
    "aws_secret_access_key = os.environ.get('AWS_SECRET_ACCESS_KEY')\n",
    "endpoint_url = os.environ.get('AWS_S3_ENDPOINT')\n",
    "region_name = os.environ.get('AWS_DEFAULT_REGION')\n",
    "bucket_name = os.environ.get('AWS_S3_BUCKET')\n",
    "\n",
    "session = boto3.session.Session(aws_access_key_id=aws_access_key_id,\n",
    "                                aws_secret_access_key=aws_secret_access_key)\n",
    "\n",
    "s3_resource = session.resource(\n",
    "    's3',\n",
    "    config=botocore.client.Config(signature_version='s3v4'),\n",
    "    endpoint_url=endpoint_url,\n",
    "    region_name=region_name)\n",
    "\n",
    "bucket = s3_resource.Bucket(bucket_name)\n",
    "\n",
    "def upload_directory_to_s3(local_directory, s3_prefix):\n",
    "    for root, dirs, files in os.walk(local_directory):\n",
    "        for filename in files:\n",
    "            file_path = os.path.join(root, filename)\n",
    "            relative_path = os.path.relpath(file_path, local_directory)\n",
    "            s3_key = os.path.join(s3_prefix, relative_path)\n",
    "            print(f\"{file_path} -> {s3_key}\")\n",
    "            bucket.upload_file(file_path, s3_key)\n",
    "\n",
    "def list_objects(prefix):\n",
    "    filter = bucket.objects.filter(Prefix=prefix)\n",
    "    for obj in filter.all():\n",
    "        print(obj.key)"
   ]
  },
  {
   "cell_type": "code",
   "execution_count": 17,
   "id": "00bcb371-cf50-4d98-acf5-42094ab5614b",
   "metadata": {
    "tags": []
   },
   "outputs": [
    {
     "name": "stdout",
     "output_type": "stream",
     "text": [
      "models/model/config.pbtxt -> models/model/config.pbtxt\n",
      "models/model/1/model.pt -> models/model/1/model.pt\n",
      "models/model/.ipynb_checkpoints/config-checkpoint.pbtxt -> models/model/.ipynb_checkpoints/config-checkpoint.pbtxt\n"
     ]
    }
   ],
   "source": [
    "upload_directory_to_s3(\"models\", \"models\")"
   ]
  },
  {
   "cell_type": "code",
   "execution_count": 14,
   "id": "ed563efe-9e2d-4fc5-a639-873b19638450",
   "metadata": {
    "tags": []
   },
   "outputs": [
    {
     "name": "stdout",
     "output_type": "stream",
     "text": [
      "models/model/.ipynb_checkpoints/config-checkpoint.pbtxt\n",
      "models/model/1/model.pt\n",
      "models/model/config.pbtxt\n"
     ]
    }
   ],
   "source": [
    "list_objects(\"models\")"
   ]
  }
 ],
 "metadata": {
  "kernelspec": {
   "display_name": "Python 3.9",
   "language": "python",
   "name": "python3"
  },
  "language_info": {
   "codemirror_mode": {
    "name": "ipython",
    "version": 3
   },
   "file_extension": ".py",
   "mimetype": "text/x-python",
   "name": "python",
   "nbconvert_exporter": "python",
   "pygments_lexer": "ipython3",
   "version": "3.9.16"
  }
 },
 "nbformat": 4,
 "nbformat_minor": 5
}
